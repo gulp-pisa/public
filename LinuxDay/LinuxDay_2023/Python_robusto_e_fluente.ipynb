{
 "cells": [
  {
   "cell_type": "markdown",
   "id": "1f519fec25b2d735",
   "metadata": {},
   "source": [
    "## LinuxDay 2023"
   ]
  },
  {
   "cell_type": "markdown",
   "id": "5374e13581f1c5f8",
   "metadata": {},
   "source": [
    "#### Esempio di codice difficile da leggere"
   ]
  },
  {
   "cell_type": "markdown",
   "id": "d2c66b3a7f70b4bd",
   "metadata": {},
   "source": [
    "Esempio:\n",
    "Prendo una ricetta per una pietanza ed aggiusto le quantità degli ingredienti adattandole al nuovo numero di porzioni da realizzare.\n",
    "Il primo elemento di una ricetta è il numero di porzioni per cui è riportata, mentre i rimanenti sono delle tuple con indicato il nome dell'ingrediente, la quantità e l'unità di misura in cui è espressa:\n",
    "(nome, quantità, unità)"
   ]
  },
  {
   "cell_type": "code",
   "execution_count": 1,
   "id": "2b18589b1f713098",
   "metadata": {
    "ExecuteTime": {
     "end_time": "2023-10-22T19:00:15.371576824Z",
     "start_time": "2023-10-22T19:00:15.356799445Z"
    }
   },
   "outputs": [],
   "source": [
    "# take a meal recipe and change the number of servings by adjusting the number of servings\n",
    "# A recipe's first element is the number of servings, and the remainder of element is (name, amount, unit), \n",
    "# such as (\"flour\", 1.5,\"cup\")\n",
    "def adjust_recipe(recipe, servings):\n",
    "    new_recipe = [servings]\n",
    "    old_servings = recipe[0]\n",
    "    factor = servings / old_servings\n",
    "    recipe.pop(0)\n",
    "    while recipe:\n",
    "        ingredient, amount, unit = recipe.pop(0)\n",
    "        # please only use numbers that will be easily measurable\n",
    "        new_recipe.append((ingredient, amount * factor, unit))\n",
    "    return new_recipe"
   ]
  },
  {
   "cell_type": "code",
   "execution_count": 2,
   "id": "8a61e02dcce90b2a",
   "metadata": {
    "ExecuteTime": {
     "end_time": "2023-10-22T18:52:48.635054778Z",
     "start_time": "2023-10-22T18:52:48.592918424Z"
    }
   },
   "outputs": [
    {
     "data": {
      "text/plain": [
       "[3, ('pane', 3.0, 'fetta'), ('olio', 1.5, 'cucchiaio')]"
      ]
     },
     "execution_count": 2,
     "metadata": {},
     "output_type": "execute_result"
    }
   ],
   "source": [
    "adjust_recipe([2,(\"pane\",2,\"fetta\"),(\"olio\",1,\"cucchiaio\")],3)"
   ]
  },
  {
   "cell_type": "markdown",
   "id": "8b9b11a3",
   "metadata": {},
   "source": [
    "Posso provare una nuova versione, variando la struttura di dati sottostante:"
   ]
  },
  {
   "cell_type": "code",
   "execution_count": 3,
   "id": "8ac0135c35304c2c",
   "metadata": {
    "ExecuteTime": {
     "end_time": "2023-10-22T19:04:29.108031680Z",
     "start_time": "2023-10-22T19:04:29.092896009Z"
    }
   },
   "outputs": [],
   "source": [
    "# VERSIONE ALTERNATIVA\n",
    "def adjust_recipe2(recipe, servings):\n",
    "    old_servings = recipe.pop(0)\n",
    "    factor = servings / old_servings\n",
    "    new_recipe = {ingredient: (amount * factor, unit) for ingredient, amount, unit in recipe}\n",
    "    new_recipe[\"servimgs\"] = servings\n",
    "    return new_recipe"
   ]
  },
  {
   "cell_type": "code",
   "execution_count": 4,
   "id": "57432ac11129bf39",
   "metadata": {
    "ExecuteTime": {
     "end_time": "2023-10-22T19:06:00.716844026Z",
     "start_time": "2023-10-22T19:06:00.674582313Z"
    }
   },
   "outputs": [
    {
     "data": {
      "text/plain": [
       "{'pane': (3.0, 'fetta'), 'olio': (1.5, 'cucchiaio'), 'servimgs': 3}"
      ]
     },
     "execution_count": 4,
     "metadata": {},
     "output_type": "execute_result"
    }
   ],
   "source": [
    "adjust_recipe2([2,(\"pane\",2,\"fetta\"),(\"olio\",1,\"cucchiaio\")],3)"
   ]
  },
  {
   "cell_type": "markdown",
   "id": "28b15c8c",
   "metadata": {},
   "source": [
    "Il codice, sebbene più compatto, non è migliorato per la sua comprensibilità."
   ]
  },
  {
   "cell_type": "markdown",
   "id": "c5ca9c7e",
   "metadata": {},
   "source": [
    "#### L'annotazione del codice fornisce una maggiore chiarezza sugli intenti del programmatore, aumentando la comprensibilità del codice."
   ]
  },
  {
   "cell_type": "code",
   "execution_count": 27,
   "id": "53fec73a",
   "metadata": {},
   "outputs": [],
   "source": [
    "import typing\n",
    "import datetime\n",
    "from dataclasses import dataclass\n",
    "from enum import auto, Enum\n",
    "\n",
    "class ImperialMeasure(Enum):\n",
    "    \"\"\"\n",
    "    Unità di misura utilizzate per definire gli ingredienti\n",
    "    \"\"\"\n",
    "    TEASPOON = auto()\n",
    "    TABLESPOON = auto()\n",
    "    CUP = auto()\n",
    "        \n",
    "class Broth(Enum):\n",
    "    \"\"\"\n",
    "    Tipologie di brodo disponibili\n",
    "    \"\"\"\n",
    "    VEGETABLE = auto()\n",
    "    CHICKEN = auto()\n",
    "    BEEF = auto()\n",
    "    FISH = auto()\n",
    "\n",
    "@dataclass(frozen=True)\n",
    "class Ingredient:\n",
    "    \"\"\"\n",
    "    Definizione del generico ingrediente\n",
    "    @param name:   stringa che descrive il nome dell'ingrediente\n",
    "    @param amount: quantità di ingrediente presente nella ricetta\n",
    "    @param units:  unità di misura relativa alla quantità di ingrediente\n",
    "    \"\"\"\n",
    "    name: str\n",
    "    amount: float = 1\n",
    "    units: ImperialMeasure = ImperialMeasure.CUP\n",
    "\n",
    "@dataclass\n",
    "class Recipe:\n",
    "    aromatics: set[Ingredient]\n",
    "    broth: Broth\n",
    "    vegetables: set[Ingredient]\n",
    "    meats: set[Ingredient]\n",
    "    starches: set[Ingredient]\n",
    "    garnishes: set[Ingredient]\n",
    "    time_to_cook: datetime.timedelta\n",
    "    def make_vegetarian(self)->None:\n",
    "        self.meats.clear()\n",
    "        self.broth = Broth.VEGETABLE\n",
    "    def get_ingredient_names(self)->set[str]:\n",
    "        ingredients = (self.aromatics |\n",
    "                       self.vegetables |\n",
    "                       self.meats |\n",
    "                       self.starches |\n",
    "                       self.garnishes\n",
    "                      )\n",
    "        return ({i.name for i in ingredients} | {self.broth.name.capitalize() + \" broth \"})\n"
   ]
  },
  {
   "cell_type": "markdown",
   "id": "c92d1e23",
   "metadata": {},
   "source": [
    "Definizione degli ingrqedienti:"
   ]
  },
  {
   "cell_type": "code",
   "execution_count": 28,
   "id": "61798158",
   "metadata": {},
   "outputs": [],
   "source": [
    "pepper = Ingredient(\"Pepper\", 1, ImperialMeasure.TABLESPOON)\n",
    "garlic = Ingredient(\"Garlic\", 2, ImperialMeasure.TEASPOON)\n",
    "carrots = Ingredient(\"Carrot\", .25, ImperialMeasure.CUP)\n",
    "celery = Ingredient(\"Celery\", .25, ImperialMeasure.CUP)\n",
    "onions = Ingredient(\"Onions\", .25, ImperialMeasure.CUP)\n",
    "parsley = Ingredient(\"Parsley\", 2, ImperialMeasure.TABLESPOON)\n",
    "noodles = Ingredient(\"Noodles\", 1.5, ImperialMeasure.CUP)\n",
    "chicken = Ingredient(\"Chicken\", 1.5, ImperialMeasure.CUP)"
   ]
  },
  {
   "cell_type": "markdown",
   "id": "b66943e1",
   "metadata": {},
   "source": [
    "Definizione della ricetta:"
   ]
  },
  {
   "cell_type": "code",
   "execution_count": 29,
   "id": "51e3978f",
   "metadata": {},
   "outputs": [],
   "source": [
    "chicken_noodles_soup = Recipe(\n",
    "    aromatics = {pepper, garlic},\n",
    "    broth = Broth.CHICKEN,\n",
    "    vegetables = {celery, onions, carrots},\n",
    "    meats = {chicken},\n",
    "    starches = {noodles},\n",
    "    garnishes = {parsley},\n",
    "    time_to_cook = datetime.timedelta(minutes = 60)\n",
    ")"
   ]
  },
  {
   "cell_type": "code",
   "execution_count": 31,
   "id": "00ac7ab4",
   "metadata": {},
   "outputs": [
    {
     "data": {
      "text/plain": [
       "{'Carrot',\n",
       " 'Celery',\n",
       " 'Chicken',\n",
       " 'Chicken broth ',\n",
       " 'Garlic',\n",
       " 'Noodles',\n",
       " 'Onions',\n",
       " 'Parsley',\n",
       " 'Pepper'}"
      ]
     },
     "execution_count": 31,
     "metadata": {},
     "output_type": "execute_result"
    }
   ],
   "source": [
    "chicken_noodles_soup.get_ingredient_names()"
   ]
  },
  {
   "cell_type": "markdown",
   "id": "ebc87d9e",
   "metadata": {},
   "source": [
    "#### Esempio sull'utilizzo dei protocolli (Protocols)"
   ]
  },
  {
   "cell_type": "code",
   "execution_count": 66,
   "id": "56aad47e",
   "metadata": {},
   "outputs": [],
   "source": [
    "from typing import Protocol\n",
    "from dataclasses import dataclass\n",
    "\n",
    "class Movable(Protocol):\n",
    "    x: float\n",
    "    y: float\n",
    "    def move(a:float, b:float)->Movable:\n",
    "        \"\"\"Metodo non implementato\"\"\"\n",
    "\n",
    "class Rectangle():\n",
    "    def __init__(self, \n",
    "                 x: float, \n",
    "                 y: float,\n",
    "                 l: float, \n",
    "                 h: float):\n",
    "            self.x = x\n",
    "            self.y = y\n",
    "            self.l = l\n",
    "            self.h = h\n",
    "    def __str__(self):\n",
    "        return f\"Rectangle: ({self.x},{self.y},{self.l},{self.h})\"\n",
    "    def move(self, deltax: float, deltay: float)->Rectangle:\n",
    "        self.x += deltax\n",
    "        self.y += deltay\n",
    "        return self\n",
    "\n",
    "class Circle():\n",
    "    def __init__(self, \n",
    "                 x: float, \n",
    "                 y: float,\n",
    "                 r: float):\n",
    "            self.x = x\n",
    "            self.y = y\n",
    "            self.r = r\n",
    "    def __str__(self):\n",
    "        return f\"Circle: ({self.x},{self.y},{self.r})\"\n",
    "    def move(self, deltax: float, deltay: float)->Circle:\n",
    "        self.x += deltax\n",
    "        self.y += deltay\n",
    "        return self\n",
    "\n",
    "#Definisco una funzione \"generica\" che funziona quando l'oggetto è muovibile\n",
    "def move_list(lista: list[Movable], x:float = 0, y:float = 0)->list[Movable]:\n",
    "    for oggetto in lista:\n",
    "        if not(oggetto is None):\n",
    "            oggetto.move(x,y)\n",
    "    return lista"
   ]
  },
  {
   "cell_type": "code",
   "execution_count": 73,
   "id": "c85d2e8d",
   "metadata": {},
   "outputs": [
    {
     "name": "stdout",
     "output_type": "stream",
     "text": [
      "Rectangle: (0,0,10,5)\n"
     ]
    }
   ],
   "source": [
    "R1 = Rectangle(0,0,10,5)\n",
    "C1 = Circle(1,1,3)\n",
    "\n",
    "print(R1)"
   ]
  },
  {
   "cell_type": "code",
   "execution_count": 74,
   "id": "5df3bfc0",
   "metadata": {},
   "outputs": [
    {
     "name": "stdout",
     "output_type": "stream",
     "text": [
      "Circle: (2,2,3)\n",
      "Rectangle: (1,1,10,5)\n"
     ]
    }
   ],
   "source": [
    "ML1 = [C1,R1]\n",
    "\n",
    "ML2 = move_list(ML1,1,1)\n",
    "for x in ML2:\n",
    "    print(x)"
   ]
  },
  {
   "cell_type": "markdown",
   "id": "85ff4ed1",
   "metadata": {},
   "source": [
    "#### Esempi di Pattern Matching"
   ]
  },
  {
   "cell_type": "code",
   "execution_count": 16,
   "id": "9aaada31",
   "metadata": {},
   "outputs": [],
   "source": [
    "def scegli(x: int)->int:\n",
    "    match x:\n",
    "        case 1:\n",
    "            return 10\n",
    "        case 2:\n",
    "            return 20\n",
    "        case 3:\n",
    "            return 40\n",
    "        case _:\n",
    "            return 0"
   ]
  },
  {
   "cell_type": "code",
   "execution_count": 18,
   "id": "3828101f",
   "metadata": {},
   "outputs": [
    {
     "data": {
      "text/plain": [
       "0"
      ]
     },
     "execution_count": 18,
     "metadata": {},
     "output_type": "execute_result"
    }
   ],
   "source": [
    "scegli((2,2))"
   ]
  },
  {
   "cell_type": "code",
   "execution_count": 23,
   "id": "b2a02c46",
   "metadata": {},
   "outputs": [],
   "source": [
    "def scegli2(x: tuple[int,int])->int:\n",
    "    match x:\n",
    "        case 1, 1:\n",
    "            return 10\n",
    "        case _, 1:\n",
    "            return 20\n",
    "        case 1, _:\n",
    "            return 40\n",
    "        case _:\n",
    "            return 0"
   ]
  },
  {
   "cell_type": "code",
   "execution_count": 24,
   "id": "ae6c658b",
   "metadata": {},
   "outputs": [
    {
     "data": {
      "text/plain": [
       "40"
      ]
     },
     "execution_count": 24,
     "metadata": {},
     "output_type": "execute_result"
    }
   ],
   "source": [
    "scegli2((1,2))"
   ]
  },
  {
   "cell_type": "code",
   "execution_count": 21,
   "id": "f0a933d1",
   "metadata": {},
   "outputs": [],
   "source": [
    "def scegli3(x: dict)->int:\n",
    "    match x:\n",
    "        case {\"tipo\": \"numero\"}:\n",
    "            return 1\n",
    "        case {\"tipo\": \"figura\", \"forma\": \"Cerchio\"}:\n",
    "            return 2\n",
    "        case {\"tipo\": \"figura\", \"forma\": \"Rombo\"}:\n",
    "            return 3\n",
    "        case _:\n",
    "            return 0"
   ]
  },
  {
   "cell_type": "code",
   "execution_count": 30,
   "id": "6fbc6e2b",
   "metadata": {},
   "outputs": [
    {
     "data": {
      "text/plain": [
       "1"
      ]
     },
     "execution_count": 30,
     "metadata": {},
     "output_type": "execute_result"
    }
   ],
   "source": [
    "scegli3({\"nome\":\"Giuseppe\", \"tipo\": \"numero\"})"
   ]
  }
 ],
 "metadata": {
  "kernelspec": {
   "display_name": "Python 3 (ipykernel)",
   "language": "python",
   "name": "python3"
  },
  "language_info": {
   "codemirror_mode": {
    "name": "ipython",
    "version": 3
   },
   "file_extension": ".py",
   "mimetype": "text/x-python",
   "name": "python",
   "nbconvert_exporter": "python",
   "pygments_lexer": "ipython3",
   "version": "3.11.6"
  },
  "varInspector": {
   "cols": {
    "lenName": 16,
    "lenType": 16,
    "lenVar": 40
   },
   "kernels_config": {
    "python": {
     "delete_cmd_postfix": "",
     "delete_cmd_prefix": "del ",
     "library": "var_list.py",
     "varRefreshCmd": "print(var_dic_list())"
    },
    "r": {
     "delete_cmd_postfix": ") ",
     "delete_cmd_prefix": "rm(",
     "library": "var_list.r",
     "varRefreshCmd": "cat(var_dic_list()) "
    }
   },
   "types_to_exclude": [
    "module",
    "function",
    "builtin_function_or_method",
    "instance",
    "_Feature"
   ],
   "window_display": false
  }
 },
 "nbformat": 4,
 "nbformat_minor": 5
}
